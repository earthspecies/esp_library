{
 "cells": [
  {
   "cell_type": "markdown",
   "metadata": {},
   "source": [
    "Introduction!\n",
    "===\n",
    "\n",
    "In this notebook we will predict the gender of an Egyptian fruit bat given only a vocalization sample. We'll use a CQ transformed version of the tiny subset of annotated vocalization data to speed up the training time (a set of CQ transformed vocalizations rather than just a set of annotated vocalizations). We will be testing the effect of the number of masked input channels on the performance of a given model, and so for each model architecture we will run many samples to get a better idea about average performance for a given number of input channels. More information on this sequential masking of the input data can be found [here](https://github.com/oliver-adams-b/library/blob/main/egyptian_fruit_bat/efb_context_labeler_pos_enc_comparison.ipynb). "
   ]
  },
  {
   "cell_type": "code",
   "execution_count": 3,
   "metadata": {},
   "outputs": [
    {
     "name": "stderr",
     "output_type": "stream",
     "text": [
      "/opt/conda/lib/python3.7/site-packages/google/colab/data_table.py:30: UserWarning: IPython.utils.traitlets has moved to a top-level traitlets package.\n",
      "  from IPython.utils import traitlets as _traitlets\n"
     ]
    }
   ],
   "source": [
    "from fastai.vision.all import *\n",
    "import torch\n",
    "from PIL import Image\n",
    "import numpy as np\n",
    "import matplotlib.pyplot as plt"
   ]
  },
  {
   "cell_type": "code",
   "execution_count": 4,
   "metadata": {},
   "outputs": [],
   "source": [
    "dest_path = \"/home/jupyter/data/\"\n",
    "path = Path(\"{}egyptian_fruit_bat_annotated_tiny_cqt\".format(dest_path))\n",
    "files = [str(x) for x in get_image_files(path)]\n",
    "annot_path = \"{}/egyptian_fruit_bat_annotated_tiny/better_annotations.csv\".format(dest_path)"
   ]
  },
  {
   "cell_type": "markdown",
   "metadata": {},
   "source": [
    "We are given bat ID's not bat gender from the annotations file, but we can use the metadata for the datasets to figure out which bat ID's correspond to male vs. female bats. As noted in the metadata, all ID's which are negative or zero correspond to uncertain/unknown labels, and so we throw out all samples where this is the case. "
   ]
  },
  {
   "cell_type": "code",
   "execution_count": 5,
   "metadata": {},
   "outputs": [
    {
     "data": {
      "text/html": [
       "<div>\n",
       "<style scoped>\n",
       "    .dataframe tbody tr th:only-of-type {\n",
       "        vertical-align: middle;\n",
       "    }\n",
       "\n",
       "    .dataframe tbody tr th {\n",
       "        vertical-align: top;\n",
       "    }\n",
       "\n",
       "    .dataframe thead th {\n",
       "        text-align: right;\n",
       "    }\n",
       "</style>\n",
       "<table border=\"1\" class=\"dataframe\">\n",
       "  <thead>\n",
       "    <tr style=\"text-align: right;\">\n",
       "      <th></th>\n",
       "      <th>Unnamed: 0</th>\n",
       "      <th>FileID</th>\n",
       "      <th>Emitter</th>\n",
       "      <th>Addressee</th>\n",
       "      <th>Context</th>\n",
       "      <th>Emitter pre-vocalization action</th>\n",
       "      <th>Addressee pre-vocalization action</th>\n",
       "      <th>Emitter post-vocalization action</th>\n",
       "      <th>Addressee post-vocalization action</th>\n",
       "      <th>Start sample</th>\n",
       "      <th>End sample</th>\n",
       "      <th>File name</th>\n",
       "      <th>File folder</th>\n",
       "      <th>Context desc.</th>\n",
       "      <th>File path</th>\n",
       "      <th>Addressee sex</th>\n",
       "    </tr>\n",
       "  </thead>\n",
       "  <tbody>\n",
       "    <tr>\n",
       "      <th>6483</th>\n",
       "      <td>6483</td>\n",
       "      <td>31587</td>\n",
       "      <td>103</td>\n",
       "      <td>104</td>\n",
       "      <td>0</td>\n",
       "      <td>0</td>\n",
       "      <td>0</td>\n",
       "      <td>0</td>\n",
       "      <td>0</td>\n",
       "      <td>1</td>\n",
       "      <td>328528</td>\n",
       "      <td>120724074714562429.png</td>\n",
       "      <td>files104</td>\n",
       "      <td>unknown</td>\n",
       "      <td>/home/jupyter/data/egyptian_fruit_bat_annotated_tiny_cqt/files104/120724074714562429.png</td>\n",
       "      <td>F</td>\n",
       "    </tr>\n",
       "    <tr>\n",
       "      <th>7044</th>\n",
       "      <td>7044</td>\n",
       "      <td>32934</td>\n",
       "      <td>105</td>\n",
       "      <td>106</td>\n",
       "      <td>0</td>\n",
       "      <td>0</td>\n",
       "      <td>0</td>\n",
       "      <td>0</td>\n",
       "      <td>0</td>\n",
       "      <td>1</td>\n",
       "      <td>377680</td>\n",
       "      <td>120728234433909678.png</td>\n",
       "      <td>files104</td>\n",
       "      <td>unknown</td>\n",
       "      <td>/home/jupyter/data/egyptian_fruit_bat_annotated_tiny_cqt/files104/120728234433909678.png</td>\n",
       "      <td>F</td>\n",
       "    </tr>\n",
       "    <tr>\n",
       "      <th>7052</th>\n",
       "      <td>7052</td>\n",
       "      <td>32969</td>\n",
       "      <td>105</td>\n",
       "      <td>106</td>\n",
       "      <td>0</td>\n",
       "      <td>0</td>\n",
       "      <td>0</td>\n",
       "      <td>0</td>\n",
       "      <td>0</td>\n",
       "      <td>1</td>\n",
       "      <td>320336</td>\n",
       "      <td>120729003055701681.png</td>\n",
       "      <td>files104</td>\n",
       "      <td>unknown</td>\n",
       "      <td>/home/jupyter/data/egyptian_fruit_bat_annotated_tiny_cqt/files104/120729003055701681.png</td>\n",
       "      <td>F</td>\n",
       "    </tr>\n",
       "    <tr>\n",
       "      <th>7434</th>\n",
       "      <td>7434</td>\n",
       "      <td>34086</td>\n",
       "      <td>105</td>\n",
       "      <td>106</td>\n",
       "      <td>0</td>\n",
       "      <td>0</td>\n",
       "      <td>0</td>\n",
       "      <td>0</td>\n",
       "      <td>0</td>\n",
       "      <td>1</td>\n",
       "      <td>344912</td>\n",
       "      <td>120731190649433843.png</td>\n",
       "      <td>files104</td>\n",
       "      <td>unknown</td>\n",
       "      <td>/home/jupyter/data/egyptian_fruit_bat_annotated_tiny_cqt/files104/120731190649433843.png</td>\n",
       "      <td>F</td>\n",
       "    </tr>\n",
       "    <tr>\n",
       "      <th>8260</th>\n",
       "      <td>8260</td>\n",
       "      <td>36665</td>\n",
       "      <td>105</td>\n",
       "      <td>106</td>\n",
       "      <td>0</td>\n",
       "      <td>0</td>\n",
       "      <td>0</td>\n",
       "      <td>0</td>\n",
       "      <td>0</td>\n",
       "      <td>1</td>\n",
       "      <td>336720</td>\n",
       "      <td>120803190018516012.png</td>\n",
       "      <td>files104</td>\n",
       "      <td>unknown</td>\n",
       "      <td>/home/jupyter/data/egyptian_fruit_bat_annotated_tiny_cqt/files104/120803190018516012.png</td>\n",
       "      <td>F</td>\n",
       "    </tr>\n",
       "  </tbody>\n",
       "</table>\n",
       "</div>"
      ],
      "text/plain": [
       "      Unnamed: 0  FileID  Emitter  Addressee  Context  \\\n",
       "6483        6483   31587      103        104        0   \n",
       "7044        7044   32934      105        106        0   \n",
       "7052        7052   32969      105        106        0   \n",
       "7434        7434   34086      105        106        0   \n",
       "8260        8260   36665      105        106        0   \n",
       "\n",
       "      Emitter pre-vocalization action  Addressee pre-vocalization action  \\\n",
       "6483                                0                                  0   \n",
       "7044                                0                                  0   \n",
       "7052                                0                                  0   \n",
       "7434                                0                                  0   \n",
       "8260                                0                                  0   \n",
       "\n",
       "      Emitter post-vocalization action  Addressee post-vocalization action  \\\n",
       "6483                                 0                                   0   \n",
       "7044                                 0                                   0   \n",
       "7052                                 0                                   0   \n",
       "7434                                 0                                   0   \n",
       "8260                                 0                                   0   \n",
       "\n",
       "      Start sample  End sample               File name File folder  \\\n",
       "6483             1      328528  120724074714562429.png    files104   \n",
       "7044             1      377680  120728234433909678.png    files104   \n",
       "7052             1      320336  120729003055701681.png    files104   \n",
       "7434             1      344912  120731190649433843.png    files104   \n",
       "8260             1      336720  120803190018516012.png    files104   \n",
       "\n",
       "     Context desc.  \\\n",
       "6483       unknown   \n",
       "7044       unknown   \n",
       "7052       unknown   \n",
       "7434       unknown   \n",
       "8260       unknown   \n",
       "\n",
       "                                                                                     File path  \\\n",
       "6483  /home/jupyter/data/egyptian_fruit_bat_annotated_tiny_cqt/files104/120724074714562429.png   \n",
       "7044  /home/jupyter/data/egyptian_fruit_bat_annotated_tiny_cqt/files104/120728234433909678.png   \n",
       "7052  /home/jupyter/data/egyptian_fruit_bat_annotated_tiny_cqt/files104/120729003055701681.png   \n",
       "7434  /home/jupyter/data/egyptian_fruit_bat_annotated_tiny_cqt/files104/120731190649433843.png   \n",
       "8260  /home/jupyter/data/egyptian_fruit_bat_annotated_tiny_cqt/files104/120803190018516012.png   \n",
       "\n",
       "     Addressee sex  \n",
       "6483             F  \n",
       "7044             F  \n",
       "7052             F  \n",
       "7434             F  \n",
       "8260             F  "
      ]
     },
     "execution_count": 5,
     "metadata": {},
     "output_type": "execute_result"
    }
   ],
   "source": [
    "def format_annotations(annot_path):\n",
    "    annotations = pd.read_csv(annot_path)\n",
    "    context_dict = {0:\"unknown\", 1:\"separation\", 2:\"biting\", \n",
    "                    3:\"feeding\", 4:\"fighting\", 5:\"grooming\", \n",
    "                    6:\"isolation\", 7:\"kissing\", 8:\"landing\", \n",
    "                    9:\"mating protest\", 10:\"threat-like\", \n",
    "                    11:\"general\", 12:\"sleeping\"}\n",
    "\n",
    "    annotations[\"Context desc.\"] = [context_dict[x] for x in annotations[\"Context\"]]\n",
    "    annotations[\"File name\"] = [x.replace(\".WAV\", \".png\") for x in annotations[\"File name\"] ]\n",
    "    annotations[\"File path\"] = [\"{}/{}/{}\".format(str(path),\n",
    "                                                  str(annotations['File folder'][i]), \n",
    "                                                  str(annotations['File name'][i])) for i in annotations.index]\n",
    "    annotations = annotations[annotations[\"File path\"].isin(files)]\n",
    "    annotations = annotations.drop_duplicates(subset = ['File path'])\n",
    "    return annotations\n",
    "\n",
    "#a direct copy of a table found in the metadata:\n",
    "addressee_sex_dict = {101:\"M\", 102:\"F\", 103:\"M\", 104:\"F\", \n",
    "                      105:\"F\", 106:\"F\", 107:\"F\", 108:None, \n",
    "                      109:\"F\", 110:\"F\", 111:\"F\", 112:\"F\", \n",
    "                      113:None, 114:\"F\", 115:\"F\", 116:\"M\", 118:\"F\", \n",
    "                      119:\"F\", 120:None, 201:\"F\", 202:None,\n",
    "                      203:\"F\", 204:\"F\", 205:\"F\", 207:\"M\", \n",
    "                      208:\"M\", 209:\"F\", 210:None, 211:\"F\", \n",
    "                      212:\"F\", 213:\"F\", 214:None, 215:\"F\", \n",
    "                      216:\"F\", 217:\"F\", 218:\"M\", 220:None, 221:\"M\", \n",
    "                      222:None, 223:\"F\", 224:\"F\", 225:\"F\", \n",
    "                      226:\"F\", 228:\"F\", 230:None, 231:\"M\", \n",
    "                      232:\"F\", 233:\"M\"}\n",
    "\n",
    "annotations = format_annotations(annot_path)\n",
    "annotations = annotations[annotations[\"Addressee\"]>0]\n",
    "annotations[\"Addressee sex\"] = [addressee_sex_dict[x] for x in annotations[\"Addressee\"]]\n",
    "annotations = annotations.dropna()\n",
    "annotations.head()\n"
   ]
  },
  {
   "cell_type": "code",
   "execution_count": 6,
   "metadata": {},
   "outputs": [
    {
     "data": {
      "image/png": "[encoded data removed]",
      "text/plain": [
       "<Figure size 432x288 with 1 Axes>"
      ]
     },
     "metadata": {
      "needs_background": "light"
     },
     "output_type": "display_data"
    }
   ],
   "source": [
    "annotations[\"Addressee sex\"].value_counts().plot(kind = 'bar', title = \"Class Label Distribution\", ylabel = \"count\")\n",
    "plt.show()"
   ]
  },
  {
   "cell_type": "markdown",
   "metadata": {},
   "source": [
    "Next, we'll create some utility functions to help us create our models and dataloaders. "
   ]
  },
  {
   "cell_type": "code",
   "execution_count": 7,
   "metadata": {},
   "outputs": [
    {
     "name": "stdout",
     "output_type": "stream",
     "text": [
      "F\n"
     ]
    }
   ],
   "source": [
    "def get_x(p):\n",
    "    #returns a gs numpy array\n",
    "    return  np.array(Image.open(p))[:, :, 0]\n",
    "\n",
    "def pos_enc2d_np(gs_im, out_c = 5, eta = 0.05):\n",
    "    def constrain(x, a, b):\n",
    "        if x > b: return b\n",
    "        if x < a: return a\n",
    "        else: return x\n",
    "\n",
    "    def make_mask(shape, start, end):\n",
    "        #returns a vertical mask:\n",
    "        block_0 = np.zeros((shape[1], start))\n",
    "        block_1 = np.ones((shape[1], end - start))\n",
    "        block_2 = np.zeros((shape[1], constrain(shape[0] - end, 0, shape[0])))\n",
    "        mask = np.block([block_0, block_1, block_2])\n",
    "        \n",
    "        if mask.shape != shape:\n",
    "            return mask[:shape[1], :shape[1]]\n",
    "        else: return mask\n",
    "\n",
    "    window_widths = np.random.uniform(float(1/(out_c-1.05)) - eta, \n",
    "                                      float(1/(out_c-1.05)) + eta, out_c)\n",
    "    window_widths = np.round(window_widths*gs_im.shape[0]).astype(int)   \n",
    "    \n",
    "    window_starts = np.random.uniform(float(1/out_c) - eta, \n",
    "                                      float(1/out_c) + eta, out_c)\n",
    "    \n",
    "    window_starts = np.array([sum(window_starts[0:i]) for i in range(out_c)])\n",
    "    window_starts = np.round(window_starts*gs_im.shape[0]).astype(int)   \n",
    "    new_ims = []\n",
    "    \n",
    "    for i in range(out_c):\n",
    "        if i < out_c:\n",
    "            temp_mask = make_mask(gs_im.shape, \n",
    "                                  start = window_starts[i], \n",
    "                                  end = window_starts[i] + window_widths[i])\n",
    "        if i == out_c:\n",
    "            #making sure the last mask gets the last of the image:\n",
    "            temp_mask = make_mask(gs_im.shape, \n",
    "                                  start = int(gs_im.shape[0]*out_c), \n",
    "                                  end = gs_im.shape[0])\n",
    "\n",
    "        new_ims.append(np.multiply(temp_mask, gs_im))\n",
    "    return np.dstack(new_ims) \n",
    "\n",
    "def pos_enc2d_layer(tensor, out_c = 6, eta = 0.05):\n",
    "    #adapting the pos_enc2d to act as a layer in the model:\n",
    "    bs, channels, h, w = tensor.shape\n",
    "    assert channels == 1, \"Input should have one channel!\"\n",
    "    np_tensor = np.array(tensor.cpu()) #a little hacky! probably could be better!\n",
    "    stack = [pos_enc2d_np(np_tensor[i,:, :, :].reshape(h, w), out_c, eta) for i in range(bs)]\n",
    "    stack  = np.array(stack).reshape(bs, out_c, h, w)\n",
    "    return torch.from_numpy(stack).type(torch.cuda.FloatTensor)\n",
    "\n",
    "def get_y(p, annotations = annotations, class_label = \"Addressee sex\"):\n",
    "    return annotations.loc[annotations['File path'] == p][class_label].values[0]\n",
    "\n",
    "def get_items(p, annotations = annotations):\n",
    "    temp_files = [str(x) for x in get_image_files(path)]\n",
    "    return annotations.loc[annotations['File path'].isin(temp_files)]['File path'].values\n",
    "\n",
    "items = get_items(path)\n",
    "print(get_y(items[0]))"
   ]
  },
  {
   "cell_type": "markdown",
   "metadata": {},
   "source": [
    "Now to create our model architecture. We'll use a pretrained resnet18 with a custom model head parameterized by the provided number of input channels. With `n_c_layers = 1` we have no encoder head. "
   ]
  },
  {
   "cell_type": "code",
   "execution_count": 8,
   "metadata": {},
   "outputs": [],
   "source": [
    "class res_model(Module):    \n",
    "    def __init__(self, n_c_layers = 5):\n",
    "        super().__init__()\n",
    "        \n",
    "        self.with_pos_enc = n_c_layers != 1\n",
    "        self.in_c = (1, n_enc_layers)[self.with_pos_enc]\n",
    "        self.encoder_head = nn.Sequential(\n",
    "                                    nn.Conv2d(in_channels = self.in_c,     \n",
    "                                             out_channels = 3, \n",
    "                                             kernel_size = (5, 5), \n",
    "                                             stride = (1, 1), \n",
    "                                             padding = (1, 1), \n",
    "                                             bias = True),\n",
    "                                    nn.ReLU(inplace = True))\n",
    "        \n",
    "        self.res_block = resnet18()\n",
    "        \n",
    "    def forward(self, x):\n",
    "        if self.with_pos_enc:\n",
    "            x = pos_enc2d_layer(x, out_c = self.in_c)\n",
    "        x = self.encoder_head(x)\n",
    "        return self.res_block(x)"
   ]
  },
  {
   "cell_type": "markdown",
   "metadata": {},
   "source": [
    "We'll also use a simple no overfitting callback during training so there is no guesswork with deciding how many epochs the various models should be trained for. This callback raises a `CancelFitException()` when the training loss is within `min_delta` of the validation loss for more than a provided number of epochs (`patience`). "
   ]
  },
  {
   "cell_type": "code",
   "execution_count": 9,
   "metadata": {},
   "outputs": [],
   "source": [
    "class NoOverfittingCB(Callback):\n",
    "    def __init__(self, \n",
    "                 patience = 3, \n",
    "                 min_delta = 0.05, \n",
    "                 reset_on_fit = True):\n",
    "        self.patience, self.min_delta, self.reset_on_fit, self.wait = patience, min_delta, reset_on_fit, 0\n",
    "    \n",
    "    def before_fit(self):\n",
    "        self.run = not hasattr(self, \"lr_finder\") and not hasattr(self, \"gather_preds\")\n",
    "        if self.reset_on_fit is None: self.wait = 0;\n",
    "        self.vidx = list(self.recorder.metric_names[1:]).index(\"valid_loss\")\n",
    "        self.lidx = list(self.recorder.metric_names[1:]).index(\"train_loss\")\n",
    "    \n",
    "    def after_epoch(self):\n",
    "        vval = self.recorder.values[-1][self.vidx]\n",
    "        tval = self.recorder.values[-1][self.lidx]\n",
    "        \n",
    "        diff = tval - vval + self.min_delta\n",
    "        \n",
    "        if diff < 0:\n",
    "            self.wait += 1\n",
    "        else:\n",
    "            self.wait = 0\n",
    "        if self.wait >= self.patience:\n",
    "                print(\"Fit cancelled due to overfitting...\")\n",
    "                raise CancelFitException()\n",
    "                \n",
    "    def after_fit(self): \n",
    "        self.run = True\n",
    "        "
   ]
  },
  {
   "cell_type": "markdown",
   "metadata": {},
   "source": [
    "Now packaging most of the above functions into functions that grab a dataloader and model. The dataloader uses random splitting, and each model uses the above no overfitting callback as well as an early stopping callback. "
   ]
  },
  {
   "cell_type": "code",
   "execution_count": 16,
   "metadata": {},
   "outputs": [],
   "source": [
    "def get_random_dls():\n",
    "    return DataBlock(blocks = (ImageBlock, CategoryBlock), \n",
    "               get_items = get_items, \n",
    "               get_x = get_x, \n",
    "               get_y = get_y, \n",
    "               splitter = RandomSplitter(seed = 42)).dataloaders(path, \n",
    "                                                                 bs = 32)\n",
    "def get_learner_with_c(c, dls):\n",
    "    learn = Learner(dls, res_model(n_c_layers = c), \n",
    "                    metrics = accuracy,\n",
    "                    cbs=[EarlyStoppingCallback(monitor='valid_loss', \n",
    "                                               min_delta=0.05, \n",
    "                                               patience=4), \n",
    "                        NoOverfittingCB()])\n",
    "    learn.unfreeze()\n",
    "    return learn"
   ]
  },
  {
   "cell_type": "markdown",
   "metadata": {},
   "source": [
    "We'll test models with number of input channels ranging from 1 to 5, sampling 20 models for each value. We'll also save the best model over the whole test so we can probe it later!"
   ]
  },
  {
   "cell_type": "code",
   "execution_count": 17,
   "metadata": {},
   "outputs": [],
   "source": [
    "c_range = list(range(1, 6))\n",
    "valid_acc_scores = []\n",
    "valid_bce_scores = []\n",
    "n_samps_per_c = 20\n",
    "max_acc = 0\n",
    "best_learner = None"
   ]
  },
  {
   "cell_type": "markdown",
   "metadata": {},
   "source": [
    "We use the %%capture magic command to supress the immense amount of printing that the next few lines of code will output. No convenient tqdm progress bar here, so if you run this get ready to wait a while!"
   ]
  },
  {
   "cell_type": "code",
   "execution_count": 18,
   "metadata": {},
   "outputs": [],
   "source": [
    "%%capture\n",
    "for c in c_range:\n",
    "    for i in range(n_samps_per_c):\n",
    "        temp_dls = get_random_dls()\n",
    "        temp_learner = get_learner_with_c(c, temp_dls)\n",
    "        temp_learner.fit_one_cycle(8)\n",
    "        temp_valid = list(temp_learner.validate())\n",
    "        valid_acc_scores.append([c, temp_valid[1]])\n",
    "        valid_bce_scores.append([c, temp_valid[0]])\n",
    "        \n",
    "        if temp_valid[1]>max_acc:\n",
    "            max_acc = temp_valid[1]\n",
    "            best_learner = temp_learner\n",
    "            \n",
    "        del temp_dls; del temp_learner; del temp_valid;"
   ]
  },
  {
   "cell_type": "code",
   "execution_count": 23,
   "metadata": {},
   "outputs": [],
   "source": [
    "valid_acc_scores = np.array(valid_acc_scores)\n",
    "valid_bce_scores = np.array(valid_bce_scores)"
   ]
  },
  {
   "cell_type": "markdown",
   "metadata": {},
   "source": [
    "To visualize the results we'll use a ridgeline-like plot to get a more clear idea about the distribution of model architecture performance over many trials. "
   ]
  },
  {
   "cell_type": "code",
   "execution_count": 24,
   "metadata": {},
   "outputs": [],
   "source": [
    "from scipy.stats.kde import gaussian_kde\n",
    "from scipy.stats import norm\n",
    "\n",
    "def ridgeline(data,\n",
    "              x_vals,\n",
    "              overlap=0, \n",
    "              labels=None, \n",
    "              n_points=150):\n",
    "    \n",
    "    xx = np.linspace(np.min(np.concatenate(data)),\n",
    "                     np.max(np.concatenate(data)), n_points)\n",
    "    curves = []\n",
    "    ys = []\n",
    "    for i, d in enumerate(data):\n",
    "        pdf = gaussian_kde(d)\n",
    "        y = i*(1.0-overlap)\n",
    "        ys.append(y)\n",
    "        curve = pdf(xx)\n",
    "        plt.plot((curve)/(np.max(curve)*3) + x_vals[i], xx, \n",
    "                 c='k', zorder=len(data)-i+1)\n",
    "    plt.xticks(x_vals)\n",
    "    \n",
    "    if labels:\n",
    "        plt.yticks(ys, labels)"
   ]
  },
  {
   "cell_type": "code",
   "execution_count": 25,
   "metadata": {},
   "outputs": [
    {
     "data": {
      "image/png": "[encoded data removed]",
      "text/plain": [
       "<Figure size 432x288 with 1 Axes>"
      ]
     },
     "metadata": {
      "needs_background": "light"
     },
     "output_type": "display_data"
    }
   ],
   "source": [
    "c_range = list(range(1, 6))\n",
    "ridgeline_data = []\n",
    "for c in c_range:\n",
    "    c_mask = valid_bce_scores[:, 0] == c\n",
    "    if sum(c_mask) != 0:\n",
    "        ridgeline_data.append(valid_bce_scores[c_mask][:, 1])\n",
    "ridgeline_data = np.array(ridgeline_data)\n",
    "\n",
    "ridgeline(ridgeline_data, x_vals = c_range)\n",
    "plt.scatter(valid_bce_scores[:, 0], \n",
    "            valid_bce_scores[:, 1], marker = \"_\")\n",
    "plt.xlabel(\"Number of Masked Input Channels\")\n",
    "plt.ylabel(\"Validation BCE\")\n",
    "plt.xticks(c_range)\n",
    "plt.show()"
   ]
  },
  {
   "cell_type": "code",
   "execution_count": 46,
   "metadata": {},
   "outputs": [
    {
     "data": {
      "image/png": "[encoded data removed]",
      "text/plain": [
       "<Figure size 432x288 with 1 Axes>"
      ]
     },
     "metadata": {
      "needs_background": "light"
     },
     "output_type": "display_data"
    }
   ],
   "source": [
    "ridgeline_data = []\n",
    "for c in c_range:\n",
    "    c_mask = valid_acc_scores[:, 0] == c\n",
    "    if sum(c_mask) != 0:\n",
    "        ridgeline_data.append(valid_acc_scores[c_mask][:, 1])\n",
    "ridgeline_data = np.array(ridgeline_data)\n",
    "\n",
    "ridgeline(ridgeline_data, x_vals = c_range)\n",
    "plt.scatter(valid_acc_scores[:, 0], \n",
    "            valid_acc_scores[:, 1], marker = \"_\")\n",
    "plt.xlabel(\"Number of Masked Input Channels\")\n",
    "plt.axhline(0.61, \n",
    "            label = \"Yossi Result at 0.64\", \n",
    "            c = \"b\")\n",
    "plt.axhline(np.max(ridgeline_data), \n",
    "            label = \"Best Result at {}\".format(np.max(ridgeline_data).round(decimals = 3)), \n",
    "            c = \"g\")\n",
    "plt.axhline(0.5, \n",
    "            label = \"Chance\", \n",
    "            c = \"r\")\n",
    "plt.ylabel(\"Validation ACC\")\n",
    "plt.xticks(c_range)\n",
    "plt.legend(loc = 'best', \n",
    "          bbox_to_anchor=(1.05, 1))\n",
    "plt.title(\"Distributions of Model Accuracy \\n for Different Input Channel Values \\n (Predicting the Gender of the Bat)\")\n",
    "plt.show()"
   ]
  },
  {
   "cell_type": "code",
   "execution_count": 44,
   "metadata": {},
   "outputs": [
    {
     "name": "stdout",
     "output_type": "stream",
     "text": [
      "Best learner had 3 input channels!\n"
     ]
    }
   ],
   "source": [
    "print(\"Best learner had {} input channels!\".format(best_learner.model.in_c))"
   ]
  },
  {
   "cell_type": "code",
   "execution_count": null,
   "metadata": {},
   "outputs": [],
   "source": []
  }
 ],
 "metadata": {
  "environment": {
   "name": "pytorch-gpu.1-4.m56",
   "type": "gcloud",
   "uri": "gcr.io/deeplearning-platform-release/pytorch-gpu.1-4:m56"
  },
  "kernelspec": {
   "display_name": "Python 3",
   "language": "python",
   "name": "python3"
  },
  "language_info": {
   "codemirror_mode": {
    "name": "ipython",
    "version": 3
   },
   "file_extension": ".py",
   "mimetype": "text/x-python",
   "name": "python",
   "nbconvert_exporter": "python",
   "pygments_lexer": "ipython3",
   "version": "3.7.8"
  }
 },
 "nbformat": 4,
 "nbformat_minor": 4
}
