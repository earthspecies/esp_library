{
 "cells": [
  {
   "cell_type": "code",
   "execution_count": 1,
   "metadata": {},
   "outputs": [
    {
     "name": "stderr",
     "output_type": "stream",
     "text": [
      "/opt/conda/lib/python3.7/site-packages/google/colab/data_table.py:30: UserWarning: IPython.utils.traitlets has moved to a top-level traitlets package.\n",
      "  from IPython.utils import traitlets as _traitlets\n"
     ]
    }
   ],
   "source": [
    "from fastai.vision.all import *\n",
    "import torch\n",
    "from PIL import Image\n",
    "import numpy as np\n",
    "import matplotlib.pyplot as plt"
   ]
  },
  {
   "cell_type": "code",
   "execution_count": 2,
   "metadata": {},
   "outputs": [
    {
     "name": "stdout",
     "output_type": "stream",
     "text": [
      "Found 8224 squeaks!\n"
     ]
    },
    {
     "data": {
      "text/plain": [
       "'/home/jupyter/data/egyptian_fruit_bat_annotated_tiny_cqt/files210/121220010548932125.png'"
      ]
     },
     "execution_count": 2,
     "metadata": {},
     "output_type": "execute_result"
    }
   ],
   "source": [
    "dest_path = \"/home/jupyter/data/\"\n",
    "path = Path(\"{}egyptian_fruit_bat_annotated_tiny_cqt\".format(dest_path))\n",
    "files = [str(x) for x in get_image_files(path)]\n",
    "\n",
    "print(\"Found {} squeaks!\".format(len(files)))\n",
    "files[0]"
   ]
  },
  {
   "cell_type": "code",
   "execution_count": 28,
   "metadata": {},
   "outputs": [
    {
     "data": {
      "text/html": [
       "<div>\n",
       "<style scoped>\n",
       "    .dataframe tbody tr th:only-of-type {\n",
       "        vertical-align: middle;\n",
       "    }\n",
       "\n",
       "    .dataframe tbody tr th {\n",
       "        vertical-align: top;\n",
       "    }\n",
       "\n",
       "    .dataframe thead th {\n",
       "        text-align: right;\n",
       "    }\n",
       "</style>\n",
       "<table border=\"1\" class=\"dataframe\">\n",
       "  <thead>\n",
       "    <tr style=\"text-align: right;\">\n",
       "      <th></th>\n",
       "      <th>Unnamed: 0</th>\n",
       "      <th>FileID</th>\n",
       "      <th>Emitter</th>\n",
       "      <th>Addressee</th>\n",
       "      <th>Context</th>\n",
       "      <th>Emitter pre-vocalization action</th>\n",
       "      <th>Addressee pre-vocalization action</th>\n",
       "      <th>Emitter post-vocalization action</th>\n",
       "      <th>Addressee post-vocalization action</th>\n",
       "      <th>Start sample</th>\n",
       "      <th>End sample</th>\n",
       "      <th>File name</th>\n",
       "      <th>File folder</th>\n",
       "      <th>Context desc.</th>\n",
       "      <th>File path</th>\n",
       "    </tr>\n",
       "  </thead>\n",
       "  <tbody>\n",
       "    <tr>\n",
       "      <th>23</th>\n",
       "      <td>23</td>\n",
       "      <td>133</td>\n",
       "      <td>0</td>\n",
       "      <td>0</td>\n",
       "      <td>12</td>\n",
       "      <td>0</td>\n",
       "      <td>0</td>\n",
       "      <td>0</td>\n",
       "      <td>0</td>\n",
       "      <td>208415</td>\n",
       "      <td>484176</td>\n",
       "      <td>120601041134496318.png</td>\n",
       "      <td>files101</td>\n",
       "      <td>sleeping</td>\n",
       "      <td>/home/jupyter/data/egyptian_fruit_bat_annotated_tiny_cqt/files101/120601041134496318.png</td>\n",
       "    </tr>\n",
       "    <tr>\n",
       "      <th>54</th>\n",
       "      <td>54</td>\n",
       "      <td>259</td>\n",
       "      <td>0</td>\n",
       "      <td>0</td>\n",
       "      <td>12</td>\n",
       "      <td>0</td>\n",
       "      <td>0</td>\n",
       "      <td>0</td>\n",
       "      <td>0</td>\n",
       "      <td>1</td>\n",
       "      <td>615248</td>\n",
       "      <td>120601163203025371.png</td>\n",
       "      <td>files101</td>\n",
       "      <td>sleeping</td>\n",
       "      <td>/home/jupyter/data/egyptian_fruit_bat_annotated_tiny_cqt/files101/120601163203025371.png</td>\n",
       "    </tr>\n",
       "    <tr>\n",
       "      <th>118</th>\n",
       "      <td>118</td>\n",
       "      <td>1333</td>\n",
       "      <td>0</td>\n",
       "      <td>0</td>\n",
       "      <td>12</td>\n",
       "      <td>0</td>\n",
       "      <td>0</td>\n",
       "      <td>0</td>\n",
       "      <td>0</td>\n",
       "      <td>1</td>\n",
       "      <td>664400</td>\n",
       "      <td>120603011026138518.png</td>\n",
       "      <td>files101</td>\n",
       "      <td>sleeping</td>\n",
       "      <td>/home/jupyter/data/egyptian_fruit_bat_annotated_tiny_cqt/files101/120603011026138518.png</td>\n",
       "    </tr>\n",
       "    <tr>\n",
       "      <th>209</th>\n",
       "      <td>209</td>\n",
       "      <td>1775</td>\n",
       "      <td>-118</td>\n",
       "      <td>0</td>\n",
       "      <td>3</td>\n",
       "      <td>2</td>\n",
       "      <td>2</td>\n",
       "      <td>3</td>\n",
       "      <td>3</td>\n",
       "      <td>1</td>\n",
       "      <td>729936</td>\n",
       "      <td>120603212856476452.png</td>\n",
       "      <td>files101</td>\n",
       "      <td>feeding</td>\n",
       "      <td>/home/jupyter/data/egyptian_fruit_bat_annotated_tiny_cqt/files101/120603212856476452.png</td>\n",
       "    </tr>\n",
       "    <tr>\n",
       "      <th>221</th>\n",
       "      <td>221</td>\n",
       "      <td>1803</td>\n",
       "      <td>0</td>\n",
       "      <td>0</td>\n",
       "      <td>3</td>\n",
       "      <td>0</td>\n",
       "      <td>0</td>\n",
       "      <td>0</td>\n",
       "      <td>0</td>\n",
       "      <td>1</td>\n",
       "      <td>426832</td>\n",
       "      <td>120603215836829478.png</td>\n",
       "      <td>files101</td>\n",
       "      <td>feeding</td>\n",
       "      <td>/home/jupyter/data/egyptian_fruit_bat_annotated_tiny_cqt/files101/120603215836829478.png</td>\n",
       "    </tr>\n",
       "  </tbody>\n",
       "</table>\n",
       "</div>"
      ],
      "text/plain": [
       "     Unnamed: 0  FileID  Emitter  Addressee  Context  \\\n",
       "23           23     133        0          0       12   \n",
       "54           54     259        0          0       12   \n",
       "118         118    1333        0          0       12   \n",
       "209         209    1775     -118          0        3   \n",
       "221         221    1803        0          0        3   \n",
       "\n",
       "     Emitter pre-vocalization action  Addressee pre-vocalization action  \\\n",
       "23                                 0                                  0   \n",
       "54                                 0                                  0   \n",
       "118                                0                                  0   \n",
       "209                                2                                  2   \n",
       "221                                0                                  0   \n",
       "\n",
       "     Emitter post-vocalization action  Addressee post-vocalization action  \\\n",
       "23                                  0                                   0   \n",
       "54                                  0                                   0   \n",
       "118                                 0                                   0   \n",
       "209                                 3                                   3   \n",
       "221                                 0                                   0   \n",
       "\n",
       "     Start sample  End sample               File name File folder  \\\n",
       "23         208415      484176  120601041134496318.png    files101   \n",
       "54              1      615248  120601163203025371.png    files101   \n",
       "118             1      664400  120603011026138518.png    files101   \n",
       "209             1      729936  120603212856476452.png    files101   \n",
       "221             1      426832  120603215836829478.png    files101   \n",
       "\n",
       "    Context desc.  \\\n",
       "23       sleeping   \n",
       "54       sleeping   \n",
       "118      sleeping   \n",
       "209       feeding   \n",
       "221       feeding   \n",
       "\n",
       "                                                                                    File path  \n",
       "23   /home/jupyter/data/egyptian_fruit_bat_annotated_tiny_cqt/files101/120601041134496318.png  \n",
       "54   /home/jupyter/data/egyptian_fruit_bat_annotated_tiny_cqt/files101/120601163203025371.png  \n",
       "118  /home/jupyter/data/egyptian_fruit_bat_annotated_tiny_cqt/files101/120603011026138518.png  \n",
       "209  /home/jupyter/data/egyptian_fruit_bat_annotated_tiny_cqt/files101/120603212856476452.png  \n",
       "221  /home/jupyter/data/egyptian_fruit_bat_annotated_tiny_cqt/files101/120603215836829478.png  "
      ]
     },
     "execution_count": 28,
     "metadata": {},
     "output_type": "execute_result"
    }
   ],
   "source": [
    "annot_path = \"{}/egyptian_fruit_bat_annotated_tiny/better_annotations.csv\".format(dest_path)\n",
    "\n",
    "def format_annotations(annot_path):\n",
    "    annotations = pd.read_csv(annot_path)\n",
    "    context_dict = {0:\"unknown\", 1:\"separation\", 2:\"biting\", \n",
    "                    3:\"feeding\", 4:\"fighting\", 5:\"grooming\", \n",
    "                    6:\"isolation\", 7:\"kissing\", 8:\"landing\", \n",
    "                    9:\"mating protest\", 10:\"threat-like\", \n",
    "                    11:\"general\", 12:\"sleeping\"}\n",
    "\n",
    "#     annotations = annotations_full.loc[:,[\"File name\", \"File folder\", \"Context\"]]\n",
    "    annotations[\"Context desc.\"] = [context_dict[x] for x in annotations[\"Context\"]]\n",
    "    annotations[\"File name\"] = [x.replace(\".WAV\", \".png\") for x in annotations[\"File name\"] ]\n",
    "    annotations[\"File path\"] = [\"{}/{}/{}\".format(str(path),\n",
    "                                                  str(annotations['File folder'][i]), \n",
    "                                                  str(annotations['File name'][i])) for i in annotations.index]\n",
    "    annotations = annotations[annotations[\"File path\"].isin(files)]\n",
    "    annotations = annotations.drop_duplicates(subset = ['File path'])\n",
    "    return annotations\n",
    "\n",
    "\n",
    "annotations = format_annotations(annot_path)\n",
    "#make it so we only study these labels for context:\n",
    "yossi_labels = ['feeding', 'mating protest', 'sleeping', 'threat-like']\n",
    "annotations = annotations.loc[annotations['Context desc.'].isin(yossi_labels)]\n",
    "\n",
    "annotations.head()"
   ]
  },
  {
   "cell_type": "code",
   "execution_count": 4,
   "metadata": {},
   "outputs": [
    {
     "data": {
      "image/png": "[encoded data removed]",
      "text/plain": [
       "<Figure size 432x288 with 1 Axes>"
      ]
     },
     "metadata": {
      "needs_background": "light"
     },
     "output_type": "display_data"
    }
   ],
   "source": [
    "annotations['Context desc.'].value_counts().plot(kind = 'bar', title = \"Class Label Distribution\", ylabel = \"count\")\n",
    "plt.show()"
   ]
  },
  {
   "cell_type": "code",
   "execution_count": 5,
   "metadata": {},
   "outputs": [],
   "source": [
    "def get_x(p):\n",
    "    #returns a gs numpy array\n",
    "    return  np.array(Image.open(p))[:, :, 0]\n",
    "\n",
    "def pos_enc2d_np(gs_im, out_c = 5, eta = 0.05):\n",
    "    def constrain(x, a, b):\n",
    "        if x > b: return b\n",
    "        if x < a: return a\n",
    "        else: return x\n",
    "\n",
    "    def make_mask(shape, start, end):\n",
    "        #returns a vertical mask:\n",
    "        block_0 = np.zeros((shape[1], start))\n",
    "        block_1 = np.ones((shape[1], end - start))\n",
    "        block_2 = np.zeros((shape[1], constrain(shape[0] - end, 0, shape[0])))\n",
    "        mask = np.block([block_0, block_1, block_2])\n",
    "        \n",
    "        if mask.shape != shape:\n",
    "            return mask[:shape[1], :shape[1]]\n",
    "        else: return mask\n",
    "\n",
    "    window_widths = np.random.uniform(float(1/(out_c-1.5)) - eta, \n",
    "                                      float(1/(out_c-1.5)) + eta, out_c)\n",
    "    window_widths = np.round(window_widths*gs_im.shape[0]).astype(int)   \n",
    "    \n",
    "    window_starts = np.random.uniform(float(1/out_c) - eta, \n",
    "                                      float(1/out_c) + eta, out_c)\n",
    "    \n",
    "    window_starts = np.array([sum(window_starts[0:i]) for i in range(out_c)])\n",
    "    window_starts = np.round(window_starts*gs_im.shape[0]).astype(int)   \n",
    "    new_ims = []\n",
    "    \n",
    "    for i in range(out_c):\n",
    "        if i < out_c:\n",
    "            temp_mask = make_mask(gs_im.shape, \n",
    "                                  start = window_starts[i], \n",
    "                                  end = window_starts[i] + window_widths[i])\n",
    "        if i == out_c:\n",
    "            #making sure the last mask gets the last of the image:\n",
    "            temp_mask = make_mask(gs_im.shape, \n",
    "                                  start = int(gs_im.shape[0]*out_c), \n",
    "                                  end = gs_im.shape[0])\n",
    "\n",
    "        new_ims.append(np.multiply(temp_mask, gs_im))\n",
    "    return np.dstack(new_ims) \n",
    "\n",
    "def pos_enc2d_layer(tensor, out_c = 6, eta = 0.05):\n",
    "    #adapting the pos_enc2d to act as a layer in the model:\n",
    "    bs, channels, h, w = tensor.shape\n",
    "    assert channels == 1, \"Input should have one channel!\"\n",
    "    np_tensor = np.array(tensor.cpu()) #a little hacky! probably could be better!\n",
    "    stack = [pos_enc2d_np(np_tensor[i,:, :, :].reshape(h, w), out_c, eta) for i in range(bs)]\n",
    "    stack  = np.array(stack).reshape(bs, out_c, h, w)\n",
    "    return torch.from_numpy(stack).type(torch.cuda.FloatTensor)\n",
    "\n",
    "def get_y(p, annotations = annotations):\n",
    "    return annotations.loc[annotations['File path'] == p]['Context desc.'].values[0]\n",
    "\n",
    "def get_items(p, annotations = annotations):\n",
    "    temp_files = [str(x) for x in get_image_files(path)]\n",
    "    return annotations.loc[annotations['File path'].isin(temp_files)]['File path'].values\n",
    "\n"
   ]
  },
  {
   "cell_type": "code",
   "execution_count": 6,
   "metadata": {},
   "outputs": [],
   "source": [
    "class res_model(Module):    \n",
    "    def __init__(self, n_enc_layers = 5):\n",
    "        super().__init__()\n",
    "        \n",
    "        self.with_pos_enc = n_enc_layers != 1\n",
    "        self.in_c = (1, n_enc_layers)[self.with_pos_enc]\n",
    "        self.encoder_head = nn.Sequential(\n",
    "                                    nn.Conv2d(in_channels = self.in_c,     \n",
    "                                             out_channels = 3, \n",
    "                                             kernel_size = (5, 5), \n",
    "                                             stride = (1, 1), \n",
    "                                             padding = (1, 1), \n",
    "                                             bias = True),\n",
    "                                    nn.ReLU(inplace = True))\n",
    "        \n",
    "        self.res_block = resnet18()\n",
    "        \n",
    "    def forward(self, x):\n",
    "        if self.with_pos_enc:\n",
    "            x = pos_enc2d_layer(x, out_c = self.in_c)\n",
    "        x = self.encoder_head(x)\n",
    "        return self.res_block(x)"
   ]
  },
  {
   "cell_type": "code",
   "execution_count": 7,
   "metadata": {},
   "outputs": [],
   "source": [
    "class NoOverfittingCB(Callback):\n",
    "    def __init__(self, \n",
    "                 patience = 3, \n",
    "                 min_delta = 0.01, \n",
    "                 reset_on_fit = True):\n",
    "        self.patience, self.min_delta, self.reset_on_fit, self.wait = patience, min_delta, reset_on_fit, 0\n",
    "    \n",
    "    def before_fit(self):\n",
    "        self.run = not hasattr(self, \"lr_finder\") and not hasattr(self, \"gather_preds\")\n",
    "        if self.reset_on_fit is None: self.best = float(\"inf\")\n",
    "        self.vidx = list(self.recorder.metric_names[1:]).index(\"valid_loss\")\n",
    "        self.lidx = list(self.recorder.metric_names[1:]).index(\"train_loss\")\n",
    "    \n",
    "    def after_epoch(self):\n",
    "        vval = self.recorder.values[-1][self.vidx]\n",
    "        tval = self.recorder.values[-1][self.lidx]\n",
    "        \n",
    "        diff = tval - vval + self.min_delta\n",
    "        \n",
    "        if diff < 0:\n",
    "            self.wait += 1\n",
    "        else:\n",
    "            self.wait = 0\n",
    "        if self.wait >= self.patience:\n",
    "                print(\"Fit cancelled due to overfitting...\")\n",
    "                raise CancelFitException() \n",
    "    \n",
    "    def after_fit(self): \n",
    "        self.run = True\n",
    "        \n",
    "        "
   ]
  },
  {
   "cell_type": "code",
   "execution_count": 8,
   "metadata": {},
   "outputs": [],
   "source": [
    "def get_random_dls():\n",
    "    return DataBlock(blocks = (ImageBlock, CategoryBlock), \n",
    "               get_items = get_items, \n",
    "               get_x = get_x, \n",
    "               get_y = get_y, \n",
    "               splitter = RandomSplitter(seed = 42)).dataloaders(path, \n",
    "                                                                 bs = 32)\n",
    "def get_learner_with_c(c, dls):\n",
    "    learn = Learner(dls, res_model(n_enc_layers = c), \n",
    "                    metrics = accuracy,\n",
    "                    cbs=[EarlyStoppingCallback(monitor='valid_loss', \n",
    "                                               min_delta=0.1, \n",
    "                                               patience=5),\n",
    "                         NoOverfittingCB()])\n",
    "    learn.unfreeze()\n",
    "    return learn"
   ]
  },
  {
   "cell_type": "code",
   "execution_count": 9,
   "metadata": {},
   "outputs": [],
   "source": [
    "c_range = list(range(1, 6))\n",
    "valid_acc_scores = []\n",
    "valid_bce_scores = []\n",
    "n_samps_per_c = 20\n",
    "max_acc = 0\n",
    "best_learner = None"
   ]
  },
  {
   "cell_type": "code",
   "execution_count": 15,
   "metadata": {},
   "outputs": [
    {
     "ename": "AttributeError",
     "evalue": "'numpy.ndarray' object has no attribute 'append'",
     "output_type": "error",
     "traceback": [
      "\u001b[0;31m---------------------------------------------------------------------------\u001b[0m",
      "\u001b[0;31mAttributeError\u001b[0m                            Traceback (most recent call last)",
      "\u001b[0;32m<ipython-input-15-3c451eca92d5>\u001b[0m in \u001b[0;36m<module>\u001b[0;34m\u001b[0m\n\u001b[1;32m      6\u001b[0m         \u001b[0mtemp_learner\u001b[0m\u001b[0;34m.\u001b[0m\u001b[0mfit_one_cycle\u001b[0m\u001b[0;34m(\u001b[0m\u001b[0;36m15\u001b[0m\u001b[0;34m,\u001b[0m \u001b[0;36m5e-4\u001b[0m\u001b[0;34m)\u001b[0m\u001b[0;34m\u001b[0m\u001b[0;34m\u001b[0m\u001b[0m\n\u001b[1;32m      7\u001b[0m         \u001b[0mtemp_valid\u001b[0m \u001b[0;34m=\u001b[0m \u001b[0mlist\u001b[0m\u001b[0;34m(\u001b[0m\u001b[0mtemp_learner\u001b[0m\u001b[0;34m.\u001b[0m\u001b[0mvalidate\u001b[0m\u001b[0;34m(\u001b[0m\u001b[0;34m)\u001b[0m\u001b[0;34m)\u001b[0m\u001b[0;34m\u001b[0m\u001b[0;34m\u001b[0m\u001b[0m\n\u001b[0;32m----> 8\u001b[0;31m         \u001b[0mvalid_acc_scores\u001b[0m\u001b[0;34m.\u001b[0m\u001b[0mappend\u001b[0m\u001b[0;34m(\u001b[0m\u001b[0;34m[\u001b[0m\u001b[0mc\u001b[0m\u001b[0;34m,\u001b[0m \u001b[0mtemp_valid\u001b[0m\u001b[0;34m[\u001b[0m\u001b[0;36m1\u001b[0m\u001b[0;34m]\u001b[0m\u001b[0;34m]\u001b[0m\u001b[0;34m)\u001b[0m\u001b[0;34m\u001b[0m\u001b[0;34m\u001b[0m\u001b[0m\n\u001b[0m\u001b[1;32m      9\u001b[0m         \u001b[0mvalid_bce_scores\u001b[0m\u001b[0;34m.\u001b[0m\u001b[0mappend\u001b[0m\u001b[0;34m(\u001b[0m\u001b[0;34m[\u001b[0m\u001b[0mc\u001b[0m\u001b[0;34m,\u001b[0m \u001b[0mtemp_valid\u001b[0m\u001b[0;34m[\u001b[0m\u001b[0;36m0\u001b[0m\u001b[0;34m]\u001b[0m\u001b[0;34m]\u001b[0m\u001b[0;34m)\u001b[0m\u001b[0;34m\u001b[0m\u001b[0;34m\u001b[0m\u001b[0m\n\u001b[1;32m     10\u001b[0m \u001b[0;34m\u001b[0m\u001b[0m\n",
      "\u001b[0;31mAttributeError\u001b[0m: 'numpy.ndarray' object has no attribute 'append'"
     ]
    }
   ],
   "source": [
    "%%capture\n",
    "for c in c_range:\n",
    "    for i in range(n_samps_per_c):\n",
    "        temp_dls = get_random_dls()\n",
    "        temp_learner = get_learner_with_c(c, temp_dls)\n",
    "        temp_learner.fit_one_cycle(15, 5e-4)\n",
    "        temp_valid = list(temp_learner.validate())\n",
    "        valid_acc_scores.append([c, temp_valid[1]])\n",
    "        valid_bce_scores.append([c, temp_valid[0]])\n",
    "        \n",
    "        if temp_valid[1]>max_acc:\n",
    "            max_acc = temp_valid[1]\n",
    "            mest_learner = temp_learner\n",
    "            \n",
    "        del temp_dls; del temp_learner; del temp_valid;"
   ]
  },
  {
   "cell_type": "code",
   "execution_count": 16,
   "metadata": {},
   "outputs": [],
   "source": [
    "valid_acc_scores = np.array(valid_acc_scores)\n",
    "valid_bce_scores = np.array(valid_bce_scores)"
   ]
  },
  {
   "cell_type": "code",
   "execution_count": 17,
   "metadata": {},
   "outputs": [],
   "source": [
    "from scipy.stats.kde import gaussian_kde\n",
    "from scipy.stats import norm\n",
    "\n",
    "def ridgeline(data,\n",
    "              x_vals,\n",
    "              overlap=0, \n",
    "              labels=None, \n",
    "              n_points=150):\n",
    "    \n",
    "    xx = np.linspace(np.min(np.concatenate(data)),\n",
    "                     np.max(np.concatenate(data)), n_points)\n",
    "    curves = []\n",
    "    ys = []\n",
    "    for i, d in enumerate(data):\n",
    "        pdf = gaussian_kde(d)\n",
    "        y = i*(1.0-overlap)\n",
    "        ys.append(y)\n",
    "        curve = pdf(xx)\n",
    "        plt.plot((curve)/(np.max(curve)*3) + x_vals[i], xx, \n",
    "                 c='k', zorder=len(data)-i+1)\n",
    "    plt.xticks(x_vals)\n",
    "    \n",
    "    if labels:\n",
    "        plt.yticks(ys, labels)"
   ]
  },
  {
   "cell_type": "code",
   "execution_count": 18,
   "metadata": {},
   "outputs": [
    {
     "data": {
      "image/png": "[encoded data removed]",
      "text/plain": [
       "<Figure size 432x288 with 1 Axes>"
      ]
     },
     "metadata": {
      "needs_background": "light"
     },
     "output_type": "display_data"
    }
   ],
   "source": [
    "ridgeline_data = []\n",
    "for c in c_range:\n",
    "    c_mask = valid_bce_scores[:, 0] == c\n",
    "    if sum(c_mask) != 0:\n",
    "        ridgeline_data.append(valid_bce_scores[c_mask][:, 1])\n",
    "ridgeline_data = np.array(ridgeline_data)\n",
    "\n",
    "ridgeline(ridgeline_data, x_vals = c_range)\n",
    "plt.scatter(valid_bce_scores[:, 0], \n",
    "            valid_bce_scores[:, 1], marker = \"_\")\n",
    "plt.xlabel(\"Number of Masked Input Channels\")\n",
    "plt.ylabel(\"Validation BCE\")\n",
    "plt.xticks(c_range)\n",
    "plt.show()"
   ]
  },
  {
   "cell_type": "code",
   "execution_count": 33,
   "metadata": {},
   "outputs": [
    {
     "data": {
      "image/png": "[encoded data removed]",
      "text/plain": [
       "<Figure size 432x288 with 1 Axes>"
      ]
     },
     "metadata": {
      "needs_background": "light"
     },
     "output_type": "display_data"
    }
   ],
   "source": [
    "ridgeline_data = []\n",
    "for c in c_range:\n",
    "    c_mask = valid_acc_scores[:, 0] == c\n",
    "    if sum(c_mask) != 0:\n",
    "        ridgeline_data.append(valid_acc_scores[c_mask][:, 1])\n",
    "ridgeline_data = np.array(ridgeline_data)\n",
    "\n",
    "ridgeline(ridgeline_data, x_vals = c_range)\n",
    "plt.scatter(valid_acc_scores[:, 0], \n",
    "            valid_acc_scores[:, 1], marker = \"_\")\n",
    "plt.xlabel(\"Number of Masked Input Channels\")\n",
    "plt.axhline(0.61, \n",
    "            label = \"Yossi Result at 0.61\", \n",
    "            c = \"b\")\n",
    "plt.axhline(np.max(ridgeline_data), \n",
    "            label = \"Best Result at {}\".format(np.max(ridgeline_data).round(decimals = 3)), \n",
    "            c = \"g\")\n",
    "plt.axhline(0.25, \n",
    "            label = \"Chance\", \n",
    "            c = \"r\")\n",
    "plt.ylabel(\"Validation ACC\")\n",
    "plt.xticks(c_range)\n",
    "plt.legend(loc = 'upper left', \n",
    "          bbox_to_anchor=(1.05, 1))\n",
    "plt.title(\"Distributions of Model Accuracy \\n for Different Input Channel Values \\n (Predicting the Context of Vocalization) \")\n",
    "plt.show()"
   ]
  },
  {
   "cell_type": "code",
   "execution_count": null,
   "metadata": {},
   "outputs": [],
   "source": []
  }
 ],
 "metadata": {
  "environment": {
   "name": "pytorch-gpu.1-4.m56",
   "type": "gcloud",
   "uri": "gcr.io/deeplearning-platform-release/pytorch-gpu.1-4:m56"
  },
  "kernelspec": {
   "display_name": "Python 3",
   "language": "python",
   "name": "python3"
  },
  "language_info": {
   "codemirror_mode": {
    "name": "ipython",
    "version": 3
   },
   "file_extension": ".py",
   "mimetype": "text/x-python",
   "name": "python",
   "nbconvert_exporter": "python",
   "pygments_lexer": "ipython3",
   "version": "3.7.8"
  }
 },
 "nbformat": 4,
 "nbformat_minor": 4
}
