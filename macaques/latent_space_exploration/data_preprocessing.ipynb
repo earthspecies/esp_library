{
  "nbformat": 4,
  "nbformat_minor": 0,
  "metadata": {
    "colab": {
      "name": "data_preprocessing.ipynb",
      "provenance": [],
      "collapsed_sections": [],
      "toc_visible": true,
      "authorship_tag": "ABX9TyP6/ONNF5tqpXhQ5hs6I1Bt",
      "include_colab_link": true
    },
    "kernelspec": {
      "name": "python3",
      "display_name": "Python 3"
    }
  },
  "cells": [
    {
      "cell_type": "markdown",
      "metadata": {
        "id": "view-in-github",
        "colab_type": "text"
      },
      "source": [
        "<a href=\"https://colab.research.google.com/github/radekosmulski/latent_macaque/blob/master/data_preprocessing.ipynb\" target=\"_parent\"><img src=\"https://colab.research.google.com/assets/colab-badge.svg\" alt=\"Open In Colab\"/></a>"
      ]
    },
    {
      "cell_type": "markdown",
      "metadata": {
        "id": "11VNjyDjllnU",
        "colab_type": "text"
      },
      "source": [
        "I will process the data from  [Distributed acoustic cues for caller identity in macaque vocalization](https://www.ncbi.nlm.nih.gov/pmc/articles/PMC4806230/) by Makoto Fukushima, Alex M. Doyle, Matthew P. Mullarkey, Mortimer Mishkin, and Bruno B. Averbeck and store it as a pandas dataframe.\n",
        "\n",
        "This way we will have a much easier time working with this data in subsequent notebooks! (also, it will allow us to save some time by preprocessing the data once and reusing it in multiple places)"
      ]
    },
    {
      "cell_type": "code",
      "metadata": {
        "id": "ypvac6QPl3ha",
        "colab_type": "code",
        "outputId": "5f7d51ef-18ff-4009-cb16-adab2bc0b8ec",
        "colab": {
          "base_uri": "https://localhost:8080/",
          "height": 68
        }
      },
      "source": [
        "!gsutil cp -R gs://ml-animal-sounds-datasets/Fukushima2015.zip ."
      ],
      "execution_count": 0,
      "outputs": [
        {
          "output_type": "stream",
          "text": [
            "Copying gs://ml-animal-sounds-datasets/Fukushima2015.zip...\n",
            "- [1 files][126.0 MiB/126.0 MiB]                                                \n",
            "Operation completed over 1 objects/126.0 MiB.                                    \n"
          ],
          "name": "stdout"
        }
      ]
    },
    {
      "cell_type": "code",
      "metadata": {
        "id": "yAyDoJl2mPKB",
        "colab_type": "code",
        "colab": {}
      },
      "source": [
        "!rm -rf data\n",
        "!unzip -q Fukushima2015.zip\n",
        "!mv dataupload data"
      ],
      "execution_count": 0,
      "outputs": []
    },
    {
      "cell_type": "code",
      "metadata": {
        "id": "rF_rRYFTmTZr",
        "colab_type": "code",
        "colab": {}
      },
      "source": [
        "import pathlib\n",
        "import pandas as pd\n",
        "import numpy as np\n",
        "import librosa, librosa.display"
      ],
      "execution_count": 0,
      "outputs": []
    },
    {
      "cell_type": "code",
      "metadata": {
        "id": "CUe2TEVamX8N",
        "colab_type": "code",
        "outputId": "04e9b655-967c-44c7-f65d-392d3a4cdbdd",
        "colab": {
          "base_uri": "https://localhost:8080/",
          "height": 51
        }
      },
      "source": [
        "%%time\n",
        "\n",
        "wav_df = pd.DataFrame(columns = ['loc', 'indv', 'idnum', 'vocdata', 'rate', 'voc_len'])\n",
        "\n",
        "path_list = pathlib.Path('data').glob('*/*.wav')\n",
        "\n",
        "for path in path_list:\n",
        "    indv = path.parent.stem\n",
        "    idnum = int(path.stem[2:])\n",
        "    data, rate = librosa.load(path)\n",
        "\n",
        "    wav_df.loc[len(wav_df)] = [path, indv, idnum, data, rate, len(data)/rate]"
      ],
      "execution_count": 0,
      "outputs": [
        {
          "output_type": "stream",
          "text": [
            "CPU times: user 3min 5s, sys: 3min 9s, total: 6min 14s\n",
            "Wall time: 17min 52s\n"
          ],
          "name": "stdout"
        }
      ]
    },
    {
      "cell_type": "code",
      "metadata": {
        "id": "_RiwaQz8qccZ",
        "colab_type": "code",
        "colab": {}
      },
      "source": [
        "wav_df.to_pickle('Fukushima2015.pickle')"
      ],
      "execution_count": 0,
      "outputs": []
    }
  ]
}